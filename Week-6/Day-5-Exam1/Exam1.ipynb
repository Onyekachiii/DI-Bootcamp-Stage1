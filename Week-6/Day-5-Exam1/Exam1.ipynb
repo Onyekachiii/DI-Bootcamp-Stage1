{
 "cells": [
  {
   "cell_type": "code",
   "execution_count": null,
   "metadata": {},
   "outputs": [],
   "source": [
    "# 1. Which of the following is not a mutable data type in Python? - Answer = C Tuples"
   ]
  },
  {
   "cell_type": "code",
   "execution_count": 4,
   "metadata": {},
   "outputs": [
    {
     "name": "stdout",
     "output_type": "stream",
     "text": [
      "[4, 16, 36, 64, 100]\n"
     ]
    }
   ],
   "source": [
    "# Using a list comprehension, generate a list of the squares of numbers from 1 to 10, but only include squares of even numbers.\n",
    "\n",
    "# Answer\n",
    "squares = [x**2 for x in range(1, 11) if x % 2 == 0]\n",
    "\n",
    "print(squares)"
   ]
  },
  {
   "cell_type": "code",
   "execution_count": 5,
   "metadata": {},
   "outputs": [
    {
     "name": "stdout",
     "output_type": "stream",
     "text": [
      "[6]\n"
     ]
    }
   ],
   "source": [
    "# Using the range function, create a list of numbers from 1 to 10, then print numbers that are divisible by both 2 and 3.\n",
    "\n",
    "# Answer\n",
    "numbers = list(range(1, 11)) \n",
    "divisible_numbers = []\n",
    "\n",
    "for num in numbers:\n",
    "    if num % 2 == 0 and num % 3 == 0:\n",
    "        divisible_numbers.append(num)\n",
    "\n",
    "print(divisible_numbers)"
   ]
  },
  {
   "cell_type": "code",
   "execution_count": 6,
   "metadata": {},
   "outputs": [
    {
     "name": "stdout",
     "output_type": "stream",
     "text": [
      "John 24\n",
      "Anna 22\n",
      "Mike 25\n"
     ]
    }
   ],
   "source": [
    "# Loop through the provided list of dictionaries and print the names and ages:\n",
    "\n",
    "student_list = [\n",
    "    {\n",
    "    \"name\": \"John\", \n",
    "    \"age\": 24\n",
    "    }, \n",
    "    {\n",
    "    \"name\": \"Anna\", \n",
    "    \"age\": 22\n",
    "    }, \n",
    "    {\n",
    "    \"name\": \"Mike\", \n",
    "    \"age\": 25\n",
    "    }\n",
    "]\n",
    "\n",
    "# Answer\n",
    "for student in student_list:\n",
    "    print(student[\"name\"], student[\"age\"])"
   ]
  },
  {
   "cell_type": "code",
   "execution_count": 29,
   "metadata": {},
   "outputs": [
    {
     "name": "stdout",
     "output_type": "stream",
     "text": [
      "  H e l l o   w o r l d   P y t h o n\n"
     ]
    }
   ],
   "source": [
    "# Write a function combine_words that accepts any number of positional arguments and key-value arguments. The function should return a single sentence combining all the words provided.\n",
    "\n",
    "def combine_words(*args, **kwargs):\n",
    "    words = \"\"\n",
    "    for arg in args:\n",
    "        words = words + \" \" + arg\n",
    "        \n",
    "    for key, value in kwargs.items():\n",
    "        words += \" \" + value   \n",
    "    \n",
    "        return ' '.join(words)\n",
    "\n",
    "print(combine_words('Hello','world', third='Python', first='I', second='love'))"
   ]
  },
  {
   "cell_type": "code",
   "execution_count": 25,
   "metadata": {},
   "outputs": [
    {
     "name": "stdout",
     "output_type": "stream",
     "text": [
      "Type: Toyota\n",
      "Brand: Sienna\n",
      "Year: 2020\n"
     ]
    }
   ],
   "source": [
    "# Create a class Vehicle with string attributes type, brand, and integer attribute year. Ensure instances of the vehicle cannot be created if any of these attributes are missing and include a method to display the vehicle’s info. Use dunder method.\n",
    "\n",
    "# Answer\n",
    "\n",
    "class Vehicle:\n",
    "    def __init__(self, type, brand, year):\n",
    "\n",
    "        self.type = type\n",
    "        self.brand = brand\n",
    "        self.year = year\n",
    "        \n",
    "    def __str__(self):\n",
    "        return f\"Type: {self.type}\\nBrand: {self.brand}\\nYear: {self.year}\"\n",
    "\n",
    "MyCar = Vehicle('Toyota','Sienna',2020)\n",
    "\n",
    "print(MyCar)"
   ]
  },
  {
   "cell_type": "code",
   "execution_count": 49,
   "metadata": {},
   "outputs": [
    {
     "name": "stdout",
     "output_type": "stream",
     "text": [
      "Brand: SUV\n",
      "Model: Mercedes\n",
      "Mileage: Black 90amps\n"
     ]
    }
   ],
   "source": [
    "# Create a class Car with string attributes brand, model, and integer attribute mileage. Implement a method to return the car’s details.\n",
    "\n",
    "# Answer\n",
    "class Car:\n",
    "    def __init__(self, brand, model, mileage):\n",
    "        self.brand = brand\n",
    "        self.model = model\n",
    "        self.mileage = mileage\n",
    "        \n",
    "    def __str__(self):\n",
    "        return f\"Brand: {self.brand}\\nModel: {self.model}\\nMileage: {self.mileage}\"\n",
    "    \n",
    "    \n",
    "# Create a subclass ElectricCar inheriting from Car with an additional float private attribute __battery_capacity. Override the car’s details method to include the battery capacity.\n",
    "# Use the @property decorator to get the battery_capacity value and @battery_capacity.setter to modify the battery capacity only if the new value is positive.\n",
    "\n",
    "# Answer\n",
    "\n",
    "class ElectricCar(Car):\n",
    "    def __init__(self, brand, model, mileage, color, __battery_capacity):\n",
    "        super().__init__(brand, model, mileage)\n",
    "        self.color = color\n",
    "        self.__battery_capacity = battery_capacity\n",
    "\n",
    "    @property\n",
    "    def battery_capacity(self):\n",
    "        return self.__battery_capacity\n",
    "\n",
    "    @battery_capacity.setter\n",
    "    def battery_capacity(self, value):\n",
    "        if value > 0:\n",
    "            self.__battery_capacity = value\n",
    "\n",
    "    def details(self):\n",
    "        return f\"Brand - {self.brand}\\nModel - {self.model}\\nColor - {self.color}\\nBattery Capacity - {self.battery_capacity}\"\n",
    "\n",
    "MyCar = Car('SUV', 'Mercedes', 'Black ' '90amps')\n",
    "print(MyCar)\n",
    "    "
   ]
  },
  {
   "cell_type": "code",
   "execution_count": null,
   "metadata": {},
   "outputs": [],
   "source": [
    "# Create a BankAccount class with private float attribute _balance and private string attribute _account_holder. Implement methods to deposit, withdraw, and view the balance. Include a class method to track accounts created and a static method for a bank policy message. Ensure the balance is non-negative.\n",
    "\n",
    "# Answer\n",
    "\n",
    "class BankAccount:\n",
    "   \n",
    "    def __init__(self, account_holder):\n",
    "        self._account_holder = account_holder\n",
    "        self._balance = 0\n",
    "        BankAccount.count += 1\n",
    "\n",
    "    def deposit(self, amount):\n",
    "        if amount < 0:\n",
    "            return \"Invalid amount to deposit.\"\n",
    "        self._balance += amount\n",
    "        return f\"Deposit of {amount} successful. New balance: {self._balance}\"\n",
    "\n",
    "    def withdraw(self, amount):\n",
    "        if amount < 0:\n",
    "            return \"Invalid amount to withdraw.\"\n",
    "        if amount > self._balance:\n",
    "            return \"Insufficient balance.\"\n",
    "        self._balance -= amount\n",
    "        return f\"Withdrawal of {amount} successful. New balance: {self._balance}\"\n",
    "\n",
    "    def view_balance(self):\n",
    "        return f\"Account holder: {self._account_holder}\\nBalance: {self._balance}\""
   ]
  }
 ],
 "metadata": {
  "kernelspec": {
   "display_name": "Python 3",
   "language": "python",
   "name": "python3"
  },
  "language_info": {
   "codemirror_mode": {
    "name": "ipython",
    "version": 3
   },
   "file_extension": ".py",
   "mimetype": "text/x-python",
   "name": "python",
   "nbconvert_exporter": "python",
   "pygments_lexer": "ipython3",
   "version": "3.11.4"
  },
  "orig_nbformat": 4
 },
 "nbformat": 4,
 "nbformat_minor": 2
}
