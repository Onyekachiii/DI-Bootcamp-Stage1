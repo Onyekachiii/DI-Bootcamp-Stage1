{
 "cells": [
  {
   "cell_type": "code",
   "execution_count": null,
   "metadata": {},
   "outputs": [
    {
     "ename": "ModuleNotFoundError",
     "evalue": "No module named 'sklearn'",
     "output_type": "error",
     "traceback": [
      "\u001b[1;31m---------------------------------------------------------------------------\u001b[0m",
      "\u001b[1;31mModuleNotFoundError\u001b[0m                       Traceback (most recent call last)",
      "Cell \u001b[1;32mIn[4], line 1\u001b[0m\n\u001b[1;32m----> 1\u001b[0m \u001b[39mfrom\u001b[39;00m \u001b[39msklearn\u001b[39;00m\u001b[39m.\u001b[39;00m\u001b[39mdatasets\u001b[39;00m \u001b[39mimport\u001b[39;00m load_boston\n\u001b[0;32m      2\u001b[0m \u001b[39mimport\u001b[39;00m \u001b[39mpandas\u001b[39;00m \u001b[39mas\u001b[39;00m \u001b[39mpd\u001b[39;00m\n\u001b[0;32m      3\u001b[0m \u001b[39mimport\u001b[39;00m \u001b[39mnumpy\u001b[39;00m \u001b[39mas\u001b[39;00m \u001b[39mnp\u001b[39;00m\n",
      "\u001b[1;31mModuleNotFoundError\u001b[0m: No module named 'sklearn'"
     ]
    }
   ],
   "source": [
    "from sklearn.datasets import load_boston\n",
    "from sklearn.preprocessing import MinMaxScaler\n",
    "import pandas as pd\n",
    "import numpy as np\n",
    "import matplotlib.pyplot as plt\n",
    "import seaborn as sns\n",
    "\n",
    "url = 'https://raw.githubusercontent.com/selva86/datasets/blob/master/BostonHousing.csv'\n",
    "df = pd.read_csv(url)\n",
    "print(df.describe())\n",
    "\n",
    "print(df.head())\n",
    "\n",
    "print(df.info())\n",
    "\n",
    "print(df.describe())\n",
    "\n",
    "df.hist(figsize=(10,10)bins=20)\n",
    "\n",
    "plt.show()\n",
    "\n",
    "plt.scatter(df['rm'], df['medv'])\n",
    "plt.xlabel('Number of Rooms')\n",
    "plt.ylabel('House Price')\n",
    "plt.title('Scatter Plot of Number of Rooms vs. House Price')\n",
    "plt.show()\n",
    "\n",
    "\n",
    "# # Load the Boston Housing dataset\n",
    "# data = pd.read_csv('data/boston_housing.csv')\n",
    "\n",
    "# # Check for missing data\n",
    "# missing_data = data.isnull().sum()\n",
    "# print(missing_data)\n",
    "\n",
    "# # Normalize continuous variables using MinMaxScaler\n",
    "# scaler = MinMaxScaler()\n",
    "# scaled_data = pd.DataFrame(scaler.fit_transform(data), columns=data.columns)\n",
    "\n",
    "# # Create a fake categorical variable by dividing 'AGE' into categories\n",
    "# bins = [0, 25, 50, 100]\n",
    "# labels = ['new', 'old', 'very old']\n",
    "# data['AGE_category'] = pd.cut(data['AGE'], bins=bins, labels=labels)\n",
    "\n",
    "# # Convert categorical variable into numbers using one-hot encoding\n",
    "# encoded_data = pd.get_dummies(data, columns=['AGE_category'])\n",
    "\n",
    "# # Calculate correlation matrix\n",
    "# correlation_matrix = data.corr()\n",
    "# print(correlation_matrix)\n",
    "\n",
    "# # Visualize correlation matrix using heatmap\n",
    "# plt.figure(figsize=(12, 8))\n",
    "# sns.heatmap(correlation_matrix, annot=True, cmap='coolwarm')\n",
    "# plt.show()\n",
    "\n",
    "# # Create a new feature by multiplying 'RM' and 'LSTAT'\n",
    "# data['RM_LSTAT'] = data['RM'] * data['LSTAT']\n"
   ]
  }
 ],
 "metadata": {
  "kernelspec": {
   "display_name": "Python 3",
   "language": "python",
   "name": "python3"
  },
  "language_info": {
   "codemirror_mode": {
    "name": "ipython",
    "version": 3
   },
   "file_extension": ".py",
   "mimetype": "text/x-python",
   "name": "python",
   "nbconvert_exporter": "python",
   "pygments_lexer": "ipython3",
   "version": "3.11.4"
  },
  "orig_nbformat": 4
 },
 "nbformat": 4,
 "nbformat_minor": 2
}
