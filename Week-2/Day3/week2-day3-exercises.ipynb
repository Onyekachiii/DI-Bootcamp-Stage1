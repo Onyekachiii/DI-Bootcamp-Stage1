{
 "cells": [
  {
   "cell_type": "code",
   "execution_count": 1,
   "metadata": {},
   "outputs": [
    {
     "name": "stdout",
     "output_type": "stream",
     "text": [
      "{'Ten': 10, 'Twenty': 20, 'Thirty': 30}\n"
     ]
    }
   ],
   "source": [
    "#ex 1\n",
    "keys = ['Ten', 'Twenty', 'Thirty']\n",
    "values = [10, 20, 30]\n",
    "\n",
    "dictionary = dict(zip(keys, values))\n",
    "print(dictionary)"
   ]
  },
  {
   "cell_type": "code",
   "execution_count": 1,
   "metadata": {},
   "outputs": [
    {
     "name": "stdout",
     "output_type": "stream",
     "text": [
      "rick has to pay $15.\n",
      "beth has to pay $15.\n",
      "morty has to pay $10.\n",
      "summer has to pay $10.\n",
      "The total cost for the family is $50.\n"
     ]
    }
   ],
   "source": [
    "#ex 2\n",
    "family = {\"rick\": 43, 'beth': 13, 'morty': 5, 'summer': 8}\n",
    "\n",
    "total_cost = 0\n",
    "\n",
    "for member, age in family.items():\n",
    "    if age < 3:\n",
    "        cost = 0\n",
    "    elif age >= 3 and age <= 12:\n",
    "        cost = 10\n",
    "    else:\n",
    "        cost = 15\n",
    "    \n",
    "    print(f\"{member} has to pay ${cost}.\")\n",
    "    total_cost += cost\n",
    "\n",
    "print(f\"The total cost for the family is ${total_cost}.\")"
   ]
  },
  {
   "cell_type": "code",
   "execution_count": 2,
   "metadata": {},
   "outputs": [
    {
     "name": "stdout",
     "output_type": "stream",
     "text": [
      "Zara's clients are mainly men, women, and children.\n",
      "Desigual\n",
      "['pink', 'green']\n",
      "7\n",
      "dict_keys(['name', 'creator_name', 'type_of_clothes', 'international_competitors', 'number_stores', 'major_color', 'country_creation'])\n",
      "10000\n"
     ]
    }
   ],
   "source": [
    "#ex 2\n",
    "brand = {\n",
    "    'name': 'Zara',\n",
    "    'creation_date': 1975,\n",
    "    'creator_name': 'Amancio Ortega Gaona',\n",
    "    'type_of_clothes': ['men', 'women', 'children', 'home'],\n",
    "    'international_competitors': ['Gap', 'H&M', 'Benetton'],\n",
    "    'number_stores': 7000,\n",
    "    'major_color': {\n",
    "        'France': 'blue',\n",
    "        'Spain': 'red',\n",
    "        'US': ['pink', 'green']\n",
    "    }\n",
    "}\n",
    "\n",
    "brand['number_stores'] = 2\n",
    "\n",
    "print(\"Zara's clients are mainly men, women, and children.\")\n",
    "\n",
    "brand['country_creation'] = 'Spain'\n",
    "\n",
    "if 'international_competitors' in brand:\n",
    "    brand['international_competitors'].append('Desigual')\n",
    "\n",
    "del brand['creation_date']\n",
    "\n",
    "print(brand['international_competitors'][-1])\n",
    "\n",
    "print(brand['major_color']['US'])\n",
    "\n",
    "print(len(brand))\n",
    "\n",
    "print(brand.keys())\n",
    "\n",
    "more_on_zara = {\n",
    "    'creation_date': 1975,\n",
    "    'number_stores': 10000\n",
    "}\n",
    "\n",
    "brand.update(more_on_zara)\n",
    "\n",
    "print(brand['number_stores'])\n"
   ]
  },
  {
   "cell_type": "code",
   "execution_count": 4,
   "metadata": {},
   "outputs": [
    {
     "name": "stdout",
     "output_type": "stream",
     "text": [
      "{'Mickey': 0, 'Minnie': 1, 'Donald': 2, 'Ariel': 3, 'Pluto': 4}\n",
      "{0: 'Mickey', 1: 'Minnie', 2: 'Donald', 3: 'Ariel', 4: 'Pluto'}\n",
      "{'Ariel': 0, 'Donald': 1, 'Mickey': 2, 'Minnie': 3, 'Pluto': 4}\n",
      "{'Mickey': 0, 'Minnie': 1, 'Ariel': 3}\n"
     ]
    }
   ],
   "source": [
    "#ex 4\n",
    "\n",
    "\n",
    "users = [\"Mickey\",\"Minnie\",\"Donald\",\"Ariel\",\"Pluto\"]\n",
    "\n",
    "\n",
    "disney_users_A = {}\n",
    "for i in range(len(users)):\n",
    "    disney_users_A[users[i]] = i\n",
    "print(disney_users_A)\n",
    "\n",
    "\n",
    "disney_users_B = {}\n",
    "for i in range(len(users)):\n",
    "    disney_users_B[i] = users[i]\n",
    "print(disney_users_B)\n",
    "\n",
    "\n",
    "disney_users_C = {name: i for i, name in enumerate(sorted(users))}\n",
    "print(disney_users_C)\n",
    "\n",
    "\n",
    "disney_users_A_i = {}\n",
    "for i in range(len(users)):\n",
    "    if 'i' in users[i]:\n",
    "        disney_users_A_i[users[i]] = i\n",
    "print(disney_users_A_i)\n",
    "\n",
    "\n",
    "disney_users_A_mp = {}\n",
    "for i in range(len(users)):\n",
    "    if users[i][0] == 'm' or users[i][0] == 'p':\n",
    "        disney_users_A_mp"
   ]
  },
  {
   "cell_type": "code",
   "execution_count": null,
   "metadata": {},
   "outputs": [],
   "source": []
  }
 ],
 "metadata": {
  "kernelspec": {
   "display_name": "Python 3",
   "language": "python",
   "name": "python3"
  },
  "language_info": {
   "codemirror_mode": {
    "name": "ipython",
    "version": 3
   },
   "file_extension": ".py",
   "mimetype": "text/x-python",
   "name": "python",
   "nbconvert_exporter": "python",
   "pygments_lexer": "ipython3",
   "version": "3.11.4"
  },
  "orig_nbformat": 4
 },
 "nbformat": 4,
 "nbformat_minor": 2
}
