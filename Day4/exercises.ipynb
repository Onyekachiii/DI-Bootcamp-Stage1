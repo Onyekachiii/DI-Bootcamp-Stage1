{
 "cells": [
  {
   "cell_type": "code",
   "execution_count": 24,
   "metadata": {},
   "outputs": [
    {
     "name": "stdout",
     "output_type": "stream",
     "text": [
      "learning to code\n",
      "One of my favorite books is Choices\n",
      "Los Angeles is in America\n"
     ]
    }
   ],
   "source": [
    "import random\n",
    "\n",
    "#Ex 1\n",
    "\n",
    "def display_message ():\n",
    "    print (\"learning to code\")\n",
    "    \n",
    "display_message ()\n",
    "\n",
    "\n",
    "#Ex 2\n",
    "def favorite_book (title):\n",
    "    print (\"One of my favorite books is \" + title)\n",
    "    \n",
    "favorite_book (\"Choices\")\n",
    "\n",
    "\n",
    "#Ex 3\n",
    "def describe_city (name_of_city):\n",
    "    print (name_of_city + \" is in \" + \"America\")\n",
    "\n",
    "describe_city (\"Los Angeles\")\n",
    "\n"
   ]
  },
  {
   "cell_type": "code",
   "execution_count": 25,
   "metadata": {},
   "outputs": [
    {
     "name": "stdout",
     "output_type": "stream",
     "text": [
      "29\n"
     ]
    }
   ],
   "source": [
    "import random\n",
    "\n",
    "# Ex 4\n",
    "def random_function ():\n",
    "    x = random.randint (0,100)\n",
    "    print(f\"{x}\")\n",
    "\n",
    "random_function ()"
   ]
  },
  {
   "cell_type": "code",
   "execution_count": 28,
   "metadata": {},
   "outputs": [
    {
     "name": "stdout",
     "output_type": "stream",
     "text": [
      "The size of the shirt is 43 and the text is great developers\n"
     ]
    }
   ],
   "source": [
    "# Ex 5\n",
    "\n",
    "def make_shirt (shirt_size, shirt_message):\n",
    "    print (\"The size of the shirt is \" + shirt_size + \" and the text is \" + shirt_message)\n",
    "\n",
    "make_shirt (\"43\", \"great developers\")"
   ]
  },
  {
   "cell_type": "code",
   "execution_count": 32,
   "metadata": {},
   "outputs": [
    {
     "name": "stdout",
     "output_type": "stream",
     "text": [
      "Harry Houdini\n",
      "David Blaine\n",
      "Criss Angel\n",
      "Harry Houdini the great\n",
      "David Blaine the great\n",
      "Criss Angel the great\n"
     ]
    }
   ],
   "source": [
    "# Ex 6\n",
    "\n",
    "magician_names = ['Harry Houdini', 'David Blaine', 'Criss Angel']\n",
    "\n",
    "def show_magicians ():\n",
    "   for magician_name in magician_names:\n",
    "       print (magician_name)\n",
    "\n",
    "show_magicians()\n",
    "\n",
    "def make_great ():\n",
    "    for magician_name in magician_names:\n",
    "        print (magician_name + \" the great\")\n",
    "\n",
    "make_great ()"
   ]
  },
  {
   "cell_type": "code",
   "execution_count": 41,
   "metadata": {},
   "outputs": [
    {
     "name": "stdout",
     "output_type": "stream",
     "text": [
      "The temperature right now is 4 degrees celsius\n",
      "Quite chilly, dont forget your coat\n"
     ]
    }
   ],
   "source": [
    "import random\n",
    "\n",
    "# Ex 7\n",
    "\n",
    "def get_random_temp ():\n",
    "    x = random.randint (-10, 40)\n",
    "    return x\n",
    "    print(f\"{x}\")\n",
    "\n",
    "get_random_temp ()\n",
    "\n",
    "def main ():\n",
    "    x = get_random_temp ()\n",
    "    print (f\"The temperature right now is {x} degrees celsius\")\n",
    "    if x < 0:\n",
    "        print (\"Brrrrr, that's freezing! Wear some extra layers today!\")\n",
    "    if x > 0 < 16:\n",
    "        print (\"Quite chilly, dont forget your coat\")\n",
    "    if x > 16 < 23:\n",
    "        print (\"Its a little cold out here today\")\n",
    "    if x > 23 < 32:\n",
    "        print (\"I think the temperature is just normal today\")\n",
    "    if x > 32 < 40:\n",
    "        print (\"The weather is rather hot today\")\n",
    "\n",
    "main ()\n",
    "\n",
    "    \n"
   ]
  }
 ],
 "metadata": {
  "kernelspec": {
   "display_name": "Python 3",
   "language": "python",
   "name": "python3"
  },
  "language_info": {
   "codemirror_mode": {
    "name": "ipython",
    "version": 3
   },
   "file_extension": ".py",
   "mimetype": "text/x-python",
   "name": "python",
   "nbconvert_exporter": "python",
   "pygments_lexer": "ipython3",
   "version": "3.11.4"
  },
  "orig_nbformat": 4
 },
 "nbformat": 4,
 "nbformat_minor": 2
}
