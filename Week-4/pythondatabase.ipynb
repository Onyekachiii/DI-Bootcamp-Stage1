{
 "cells": [
  {
   "cell_type": "code",
   "execution_count": 7,
   "metadata": {},
   "outputs": [
    {
     "name": "stdout",
     "output_type": "stream",
     "text": [
      "[(1, 'Matt', 'Damon', datetime.date(1970, 8, 10), 5), (2, 'George', 'Clooney', datetime.date(1961, 6, 5), 2), (3, 'Matt', 'Damon', datetime.date(1970, 8, 10), 5), (4, 'George', 'Clooney', datetime.date(1961, 6, 5), 2), (5, 'Jennifer', 'lopez', datetime.date(1976, 8, 10), 5), (6, 'Jennifer', 'Aniston', datetime.date(1978, 6, 5), 4)]\n"
     ]
    }
   ],
   "source": [
    "import psycopg2\n",
    "\n",
    "HOSTNAME = 'localhost'\n",
    "USERNAME = 'postgres'\n",
    "PASSWORD = 'Splendour01%'\n",
    "DATABASE = 'hollywood'\n",
    "\n",
    "connection = psycopg2.connect(host=HOSTNAME, user=USERNAME, password=PASSWORD, dbname=DATABASE)\n",
    "\n",
    "cursor = connection.cursor()\n",
    "\n",
    "cursor.execute(\"SELECT * FROM actors LIMIT 20;\")\n",
    "\n",
    "results = cursor.fetchall()\n",
    "\n",
    "print(results)\n",
    "\n",
    "connection.close()\n",
    "\n"
   ]
  }
 ],
 "metadata": {
  "kernelspec": {
   "display_name": "Python 3",
   "language": "python",
   "name": "python3"
  },
  "language_info": {
   "codemirror_mode": {
    "name": "ipython",
    "version": 3
   },
   "file_extension": ".py",
   "mimetype": "text/x-python",
   "name": "python",
   "nbconvert_exporter": "python",
   "pygments_lexer": "ipython3",
   "version": "3.11.4"
  },
  "orig_nbformat": 4
 },
 "nbformat": 4,
 "nbformat_minor": 2
}
