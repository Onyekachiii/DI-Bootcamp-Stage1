{
 "cells": [
  {
   "cell_type": "code",
   "execution_count": 7,
   "metadata": {},
   "outputs": [
    {
     "ename": "TypeError",
     "evalue": "argument should be integer or None, not 'str'",
     "output_type": "error",
     "traceback": [
      "\u001b[1;31m---------------------------------------------------------------------------\u001b[0m",
      "\u001b[1;31mTypeError\u001b[0m                                 Traceback (most recent call last)",
      "Cell \u001b[1;32mIn[7], line 2\u001b[0m\n\u001b[0;32m      1\u001b[0m f \u001b[39m=\u001b[39m \u001b[39mopen\u001b[39m(\u001b[39m\"\u001b[39m\u001b[39m./sowpods.txt\u001b[39m\u001b[39m\"\u001b[39m)\n\u001b[1;32m----> 2\u001b[0m wordlist_file \u001b[39m=\u001b[39m f\u001b[39m.\u001b[39;49mread (\u001b[39m\"\u001b[39;49m\u001b[39m./sowpods.txt\u001b[39;49m\u001b[39m\"\u001b[39;49m)\n\u001b[0;32m      4\u001b[0m \u001b[39mclass\u001b[39;00m \u001b[39mAnagramChecker\u001b[39;00m:\n\u001b[0;32m      5\u001b[0m     \u001b[39mdef\u001b[39;00m \u001b[39m__init__\u001b[39m(\u001b[39mself\u001b[39m, wordlist_file):\n",
      "\u001b[1;31mTypeError\u001b[0m: argument should be integer or None, not 'str'"
     ]
    }
   ],
   "source": [
    " \n",
    "f = open(\"./sowpods.txt\")\n",
    "wordlist_file = f.readlines(\"./sowpods.txt\")\n",
    "\n",
    "class AnagramChecker:\n",
    "    def __init__(self, wordlist_file):\n",
    "        self.wordlist = self.load_wordlist(wordlist_file)\n",
    "    \n",
    "    def load_wordlist(self, wordlist_file):\n",
    "        with open(wordlist_file, 'r') as file:\n",
    "            word_list = file.read().splitlines()\n",
    "        return word_list\n",
    "    \n",
    "    def is_valid_word(self, word):\n",
    "        return word in self.wordlist\n",
    "    \n",
    "    def is_anagram(self, word1, word2):\n",
    "        sorted_word1 = sorted(word1)\n",
    "        sorted_word2 = sorted(word2)\n",
    "        return sorted_word1 == sorted_word2\n",
    "    \n",
    "    def get_anagrams(self, word):\n",
    "        anagrams = []\n",
    "        for word_in_list in self.wordlist:\n",
    "            if self.is_anagram(word, word_in_list):\n",
    "                anagrams.append(word_in_list)\n",
    "        return anagrams"
   ]
  }
 ],
 "metadata": {
  "kernelspec": {
   "display_name": "Python 3",
   "language": "python",
   "name": "python3"
  },
  "language_info": {
   "codemirror_mode": {
    "name": "ipython",
    "version": 3
   },
   "file_extension": ".py",
   "mimetype": "text/x-python",
   "name": "python",
   "nbconvert_exporter": "python",
   "pygments_lexer": "ipython3",
   "version": "3.11.4"
  },
  "orig_nbformat": 4
 },
 "nbformat": 4,
 "nbformat_minor": 2
}
