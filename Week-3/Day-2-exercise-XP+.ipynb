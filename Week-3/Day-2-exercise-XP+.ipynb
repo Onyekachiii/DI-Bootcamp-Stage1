{
 "cells": [
  {
   "cell_type": "code",
   "execution_count": 1,
   "metadata": {},
   "outputs": [
    {
     "name": "stdout",
     "output_type": "stream",
     "text": [
      "Congratulations! The family has a new member.\n",
      "True\n",
      "True\n",
      "False\n",
      "Last Name: Smith\n",
      "Family Members:\n",
      "Michael\n",
      "Sarah\n",
      "John\n"
     ]
    }
   ],
   "source": [
    "class Family:\n",
    "    def __init__(self):\n",
    "        self.members = [\n",
    "            {'name':'Michael','age':35,'gender':'Male','is_child':False},\n",
    "            {'name':'Sarah','age':32,'gender':'Female','is_child':False}\n",
    "        ]\n",
    "        self.last_name = 'Smith'\n",
    "    \n",
    "    def born(self, **kwargs):\n",
    "        self.members.append(kwargs)\n",
    "        print('Congratulations! The family has a new member.')\n",
    "    \n",
    "    def is_18(self, name):\n",
    "        for member in self.members:\n",
    "            if member['name'] == name:\n",
    "                return member['age'] >= 18\n",
    "        return False\n",
    "    \n",
    "    def family_presentation(self):\n",
    "        print('Last Name:', self.last_name)\n",
    "        print('Family Members:')\n",
    "        for member in self.members:\n",
    "            print(member['name'])\n",
    "my_family = Family()\n",
    "\n",
    "my_family.born(name='John', age=0, gender='Male', is_child=True)\n",
    "\n",
    "print(my_family.is_18('Michael')) \n",
    "print(my_family.is_18('Sarah'))\n",
    "print(my_family.is_18('John')) \n",
    "\n",
    "my_family.family_presentation()\n"
   ]
  },
  {
   "cell_type": "code",
   "execution_count": 4,
   "metadata": {},
   "outputs": [
    {
     "name": "stdout",
     "output_type": "stream",
     "text": [
      "Last Name: Smith\n",
      "Family Members:\n",
      "Michael\n",
      "Sarah\n",
      "Incredible Name: MikeFly, Power: fly\n",
      "Incredible Name: SuperWoman, Power: read minds\n",
      "Congratulations! The family has a new member.\n",
      "Last Name: Smith\n",
      "Family Members:\n",
      "Michael\n",
      "Sarah\n",
      "Baby Jack\n",
      "Incredible Name: MikeFly, Power: fly\n",
      "Incredible Name: SuperWoman, Power: read minds\n",
      "Incredible Name: Baby Jack, Power: Unknown Power\n"
     ]
    }
   ],
   "source": [
    "class TheIncredibles(Family):\n",
    "    members_data = [\n",
    "        {'name':'Michael','age':35,'gender':'Male','is_child':False,'power': 'fly','incredible_name':'MikeFly'},\n",
    "        {'name':'Sarah','age':32,'gender':'Female','is_child':False,'power': 'read minds','incredible_name':'SuperWoman'}\n",
    "    ]\n",
    "    \n",
    "    def use_power(self, member):\n",
    "        if member['age'] >= 18:\n",
    "            print(member['power'])\n",
    "        else:\n",
    "            raise Exception(f\"{member['name']} is not over 18 years old.\")\n",
    "            \n",
    "    def incredible_presentation(self):\n",
    "        super().family_presentation()\n",
    "        for member in self.members_data:\n",
    "            print(f\"Incredible Name: {member['incredible_name']}, Power: {member['power']}\")\n",
    "            \n",
    "incredibles = TheIncredibles()\n",
    "incredibles.incredible_presentation()\n",
    "\n",
    "incredibles.born(name='Baby Jack', age=0, gender='Male')\n",
    "incredibles.members_data.append({'name':'Baby Jack','age':0,'gender':'Male','is_child':True,'power': 'Unknown Power','incredible_name':'Baby Jack'})\n",
    "            \n",
    "incredibles.incredible_presentation()\n"
   ]
  }
 ],
 "metadata": {
  "kernelspec": {
   "display_name": "Python 3",
   "language": "python",
   "name": "python3"
  },
  "language_info": {
   "codemirror_mode": {
    "name": "ipython",
    "version": 3
   },
   "file_extension": ".py",
   "mimetype": "text/x-python",
   "name": "python",
   "nbconvert_exporter": "python",
   "pygments_lexer": "ipython3",
   "version": "3.11.4"
  },
  "orig_nbformat": 4
 },
 "nbformat": 4,
 "nbformat_minor": 2
}
