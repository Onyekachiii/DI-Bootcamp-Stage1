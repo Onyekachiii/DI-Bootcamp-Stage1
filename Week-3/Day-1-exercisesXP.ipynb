{
 "cells": [
  {
   "cell_type": "code",
   "execution_count": 1,
   "metadata": {},
   "outputs": [
    {
     "name": "stdout",
     "output_type": "stream",
     "text": [
      "The oldest cat is Fluffy, and is 7 years old.\n"
     ]
    }
   ],
   "source": [
    "#ex 1\n",
    "\n",
    "class Cat:\n",
    "    def __init__(self, cat_name, cat_age):\n",
    "        self.name = cat_name\n",
    "        self.age = cat_age\n",
    "\n",
    "cat1 = Cat(\"Hairy\", 5)\n",
    "cat2 = Cat(\"Fluffy\", 7)\n",
    "cat3 = Cat(\"Wirry\", 3)\n",
    "\n",
    "def find_oldest_cat(cat1, cat2, cat3):\n",
    "    oldest_cat = cat1\n",
    "    if cat2.age > oldest_cat.age:\n",
    "        oldest_cat = cat2\n",
    "    if cat3.age > oldest_cat.age:\n",
    "        oldest_cat = cat3\n",
    "    return oldest_cat\n",
    "\n",
    "oldest_cat = find_oldest_cat(cat1, cat2, cat3)\n",
    "print(\"The oldest cat is {}, and is {} years old.\".format(oldest_cat.name, oldest_cat.age))"
   ]
  },
  {
   "cell_type": "code",
   "execution_count": 2,
   "metadata": {},
   "outputs": [
    {
     "name": "stdout",
     "output_type": "stream",
     "text": [
      "David's dog is Rex and its height is 50cm.\n",
      "Rex goes woof!\n",
      "Rex jumps 100 cm high!\n",
      "Sarah's dog is Teacup and its height is 20cm.\n",
      "Teacup goes woof!\n",
      "Teacup jumps 40 cm high!\n",
      "David's dog Rex is bigger.\n"
     ]
    }
   ],
   "source": [
    "#ex 2\n",
    "\n",
    "class Dog:\n",
    "    def __init__(self, name, height):\n",
    "        self.name = name\n",
    "        self.height = height\n",
    "    \n",
    "    def bark(self):\n",
    "        print(self.name + \" goes woof!\")\n",
    "    \n",
    "    def jump(self):\n",
    "        height_jump = self.height * 2\n",
    "        print(self.name + \" jumps \" + str(height_jump) + \" cm high!\")\n",
    "\n",
    "davids_dog = Dog(\"Rex\", 50)\n",
    "print(\"David's dog is \" + davids_dog.name + \" and its height is \" + str(davids_dog.height) + \"cm.\")\n",
    "davids_dog.bark()\n",
    "davids_dog.jump()\n",
    "\n",
    "sarahs_dog = Dog(\"Teacup\", 20)\n",
    "print(\"Sarah's dog is \" + sarahs_dog.name + \" and its height is \" + str(sarahs_dog.height) + \"cm.\")\n",
    "sarahs_dog.bark()\n",
    "sarahs_dog.jump()\n",
    "\n",
    "if davids_dog.height > sarahs_dog.height:\n",
    "    print(\"David's dog \" + davids_dog.name + \" is bigger.\")\n",
    "else:\n",
    "    print(\"Sarah's dog \" + sarahs_dog.name + \" is bigger.\")"
   ]
  },
  {
   "cell_type": "code",
   "execution_count": 4,
   "metadata": {},
   "outputs": [
    {
     "name": "stdout",
     "output_type": "stream",
     "text": [
      "There’s a lady who's sure\n",
      "all that glitters is gold\n",
      "and she’s buying a stairway to heaven\n"
     ]
    }
   ],
   "source": [
    "#ex 3\n",
    "\n",
    "class Song:\n",
    "    def __init__(self, lyrics):\n",
    "        self.lyrics = lyrics\n",
    "    \n",
    "    def sing_me_a_song(self):\n",
    "        for line in self.lyrics:\n",
    "            print(line)\n",
    "\n",
    "stairway = Song([\"There’s a lady who's sure\",\"all that glitters is gold\", \"and she’s buying a stairway to heaven\"])\n",
    "\n",
    "stairway.sing_me_a_song()"
   ]
  },
  {
   "cell_type": "code",
   "execution_count": 5,
   "metadata": {},
   "outputs": [
    {
     "name": "stdout",
     "output_type": "stream",
     "text": [
      "Giraffe\n",
      "Lion\n",
      "Elephant\n",
      "Monkey\n",
      "G: Giraffe\n",
      "L: Lion\n",
      "M: Monkey\n"
     ]
    }
   ],
   "source": [
    "#ex 4\n",
    "\n",
    "class Zoo:\n",
    "    def __init__(self, zoo_name):\n",
    "        self.animals = []\n",
    "        self.name = zoo_name\n",
    "        \n",
    "    def add_animal(self, new_animal):\n",
    "        if new_animal not in self.animals:\n",
    "            self.animals.append(new_animal)\n",
    "            \n",
    "    def get_animals(self):\n",
    "        for animal in self.animals:\n",
    "            print(animal)\n",
    "            \n",
    "    def sell_animal(self, animal_sold):\n",
    "        if animal_sold in self.animals:\n",
    "            self.animals.remove(animal_sold)\n",
    "            \n",
    "    def sort_animals(self):\n",
    "        sorted_animals = {}\n",
    "        for animal in self.animals:\n",
    "            first_letter = animal[0].upper()\n",
    "            if first_letter not in sorted_animals:\n",
    "                sorted_animals[first_letter] = [animal]\n",
    "            else:\n",
    "                sorted_animals[first_letter].append(animal)\n",
    "                \n",
    "        return sorted_animals\n",
    "    \n",
    "    def get_groups(self):\n",
    "        sorted_animals = self.sort_animals()\n",
    "        for group, animals in sorted_animals.items():\n",
    "            print(group + \": \" + \", \".join(animals))\n",
    "    \n",
    "          \n",
    "ramat_gan_safari = Zoo(\"Ramat Gan Safari\")\n",
    "\n",
    "\n",
    "ramat_gan_safari.add_animal(\"Giraffe\")\n",
    "ramat_gan_safari.add_animal(\"Lion\")\n",
    "ramat_gan_safari.add_animal(\"Elephant\")\n",
    "ramat_gan_safari.add_animal(\"Giraffe\")\n",
    "ramat_gan_safari.add_animal(\"Monkey\")\n",
    "\n",
    "\n",
    "ramat_gan_safari.get_animals()\n",
    "\n",
    "\n",
    "ramat_gan_safari.sell_animal(\"Elephant\")\n",
    "\n",
    "\n",
    "ramat_gan_safari.get_groups()"
   ]
  }
 ],
 "metadata": {
  "kernelspec": {
   "display_name": "Python 3",
   "language": "python",
   "name": "python3"
  },
  "language_info": {
   "codemirror_mode": {
    "name": "ipython",
    "version": 3
   },
   "file_extension": ".py",
   "mimetype": "text/x-python",
   "name": "python",
   "nbconvert_exporter": "python",
   "pygments_lexer": "ipython3",
   "version": "3.11.4"
  },
  "orig_nbformat": 4
 },
 "nbformat": 4,
 "nbformat_minor": 2
}
