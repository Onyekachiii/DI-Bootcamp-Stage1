{
 "cells": [
  {
   "cell_type": "code",
   "execution_count": 18,
   "metadata": {},
   "outputs": [
    {
     "name": "stdout",
     "output_type": "stream",
     "text": [
      "all_cats\n",
      "Bengali is just walking around\n",
      "Monchois is just walking around\n",
      "Stephine is just walking around\n"
     ]
    }
   ],
   "source": [
    "#ex 1\n",
    "\n",
    "class Pets():\n",
    "    def __init__(self, animals):\n",
    "        self.animals = animals\n",
    "\n",
    "    def walk(self):\n",
    "        for animal in self.animals:\n",
    "            print(animal.walk())\n",
    "\n",
    "class Cat():\n",
    "    is_lazy = True\n",
    "\n",
    "    def __init__(self, name, age):\n",
    "        self.name = name\n",
    "        self.age = age\n",
    "\n",
    "    def walk(self):\n",
    "        return f'{self.name} is just walking around'\n",
    "\n",
    "class Bengal(Cat):\n",
    "    def sing(self, sounds):\n",
    "        return f'{sounds}'\n",
    "\n",
    "class Chartreux(Cat):\n",
    "    def sing(self, sounds):\n",
    "        return f'{sounds}'\n",
    "    \n",
    "class Siamese(Cat):\n",
    "     def sing(self, sounds):\n",
    "        return f'{sounds}'\n",
    "\n",
    "bengal_cat = Bengal(\"Bengali\", 3)\n",
    "chantreux_cat = Chartreux(\"Monchois\", 2)\n",
    "siamese_cat = Siamese(\"Stephine\", 2)\n",
    "\n",
    "all_cats = [bengal_cat, chantreux_cat, siamese_cat]\n",
    "print ('all_cats')\n",
    "\n",
    "sara_pets = Pets(all_cats)\n",
    "\n",
    "\n",
    "sara_pets.walk()\n"
   ]
  },
  {
   "cell_type": "code",
   "execution_count": 15,
   "metadata": {},
   "outputs": [
    {
     "name": "stdout",
     "output_type": "stream",
     "text": [
      "Buddy won the fight\n"
     ]
    }
   ],
   "source": [
    "#ex 2\n",
    "\n",
    "class Dog ():\n",
    "    def __init__(self, name, age, weight):\n",
    "        self.name = name\n",
    "        self.age = age\n",
    "        self.weight = weight\n",
    "    \n",
    "    def bark(self):\n",
    "        return f'{self.name} is barking'\n",
    "    \n",
    "    def run_speed(self):\n",
    "        return self.weight /self.age * 10\n",
    "    \n",
    "    def fight(self, other_dog):\n",
    "        self.run_speed = self.run_speed()*self.weight\n",
    "        other_dog.run_speed = other_dog.run_speed()*other_dog.weight\n",
    "        \n",
    "        if self.run_speed > other_dog.run_speed:\n",
    "            return f'{self.name} won the fight'\n",
    "        \n",
    "        elif self.run_speed < other_dog.run_speed:\n",
    "            return f'{other_dog.name} won the fight'\n",
    "        \n",
    "        else:\n",
    "            return 'It was a tie'\n",
    "        \n",
    "dog1 = Dog(\"Buddy\", 4, 12)\n",
    "dog2 = Dog(\"Courage\", 6, 14)\n",
    "dog3 = Dog(\"Rex\", 2, 10)\n",
    "\n",
    "print (dog1.fight (dog2))"
   ]
  },
  {
   "cell_type": "code",
   "execution_count": 1,
   "metadata": {},
   "outputs": [
    {
     "name": "stdout",
     "output_type": "stream",
     "text": [
      "Fido barks\n",
      "Buddy barks\n"
     ]
    }
   ],
   "source": [
    "#ex 3\n",
    "\n",
    "import random\n",
    "\n",
    "class Dog:\n",
    "    def __init__(self, name):\n",
    "        self.name = name\n",
    "\n",
    "    def bark(self):\n",
    "        print(f\"{self.name} barks\")\n",
    "\n",
    "class PetDog(Dog):\n",
    "    def __init__(self, name):\n",
    "        super().__init__(name)\n",
    "        self.trained = False\n",
    "\n",
    "    def train(self):\n",
    "        self.bark()\n",
    "        self.trained = True\n",
    "\n",
    "    def play(self, *dog_names):\n",
    "        print(f\"{', '.join(dog_names)} all play together\")\n",
    "\n",
    "    def do_a_trick(self):\n",
    "        if self.trained:\n",
    "            tricks = [\n",
    "                f\"{self.name} does a barrel roll\",\n",
    "                f\"{self.name} stands on his back legs\",\n",
    "                f\"{self.name} shakes your hand\",\n",
    "                f\"{self.name} plays dead\"\n",
    "            ]\n",
    "            print(random.choice(tricks))\n",
    "        else:\n",
    "            print(f\"{self.name} is not trained yet\")\n",
    "\n",
    "\n",
    "# Example usage\n",
    "dog1 = PetDog(\"Fido\")\n",
    "dog1.bark()  # Output: Fido barks\n",
    "\n",
    "dog2 = PetDog(\"Buddy\")\n",
    "dog2.train()  # Output: Buddy\n",
    "            \n",
    "        \n",
    "   \n",
    "        \n",
    "\n",
    "\n",
    "    "
   ]
  }
 ],
 "metadata": {
  "kernelspec": {
   "display_name": "Python 3",
   "language": "python",
   "name": "python3"
  },
  "language_info": {
   "codemirror_mode": {
    "name": "ipython",
    "version": 3
   },
   "file_extension": ".py",
   "mimetype": "text/x-python",
   "name": "python",
   "nbconvert_exporter": "python",
   "pygments_lexer": "ipython3",
   "version": "3.11.4"
  },
  "orig_nbformat": 4
 },
 "nbformat": 4,
 "nbformat_minor": 2
}
