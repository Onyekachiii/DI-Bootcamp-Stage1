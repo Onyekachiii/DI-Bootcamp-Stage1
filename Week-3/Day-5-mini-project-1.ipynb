{
 "cells": [
  {
   "cell_type": "code",
   "execution_count": 1,
   "metadata": {},
   "outputs": [
    {
     "name": "stdout",
     "output_type": "stream",
     "text": [
      "Player 1 wins\n"
     ]
    }
   ],
   "source": [
    "# Mini project 1\n",
    "player1_input=input('Player 1: ')\n",
    "player2_input=input('Player 2: ')\n",
    "\n",
    "winning_possibilities = [('rock','paper'), ('paper','scissors'), ('scissors','rock')]\n",
    "\n",
    "for possibility in winning_possibilities:\n",
    "    if player1_input == player2_input:\n",
    "        print ('The game was a draw')\n",
    "    else:\n",
    "        if player1_input == possibility[0] and player2_input == possibility[1]:\n",
    "            print ('Player 1 wins')\n",
    "        elif player2_input == possibility[0] and player1_input == possibility[1]:\n",
    "            print ('Player 2 wins')"
   ]
  }
 ],
 "metadata": {
  "kernelspec": {
   "display_name": "Python 3",
   "language": "python",
   "name": "python3"
  },
  "language_info": {
   "codemirror_mode": {
    "name": "ipython",
    "version": 3
   },
   "file_extension": ".py",
   "mimetype": "text/x-python",
   "name": "python",
   "nbconvert_exporter": "python",
   "pygments_lexer": "ipython3",
   "version": "3.11.4"
  },
  "orig_nbformat": 4
 },
 "nbformat": 4,
 "nbformat_minor": 2
}
