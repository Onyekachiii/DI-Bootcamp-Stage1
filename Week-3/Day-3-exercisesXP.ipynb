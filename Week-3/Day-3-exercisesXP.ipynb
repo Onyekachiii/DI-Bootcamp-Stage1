{
 "cells": [
  {
   "cell_type": "code",
   "execution_count": null,
   "metadata": {},
   "outputs": [],
   "source": [
    "# ex 1\n",
    "\n",
    "class Currency:\n",
    "    def __init__(self, currency, amount):\n",
    "        self.currency = currency\n",
    "        self.amount = amount"
   ]
  },
  {
   "cell_type": "code",
   "execution_count": 6,
   "metadata": {},
   "outputs": [
    {
     "name": "stdout",
     "output_type": "stream",
     "text": [
      "Oops! The random number rolled is 35.\n"
     ]
    }
   ],
   "source": [
    "# ex 3\n",
    "\n",
    "import random\n",
    "\n",
    "def roll_dice(num):\n",
    "    roll = random.randint(1, 100)\n",
    "    \n",
    "    if num == roll:\n",
    "        print(f\"Success! The random number rolled is {roll}.\")\n",
    "    else:\n",
    "        print(f\"Oops! The random number rolled is {roll}.\")\n",
    "\n",
    "roll_dice (17)"
   ]
  },
  {
   "cell_type": "code",
   "execution_count": 7,
   "metadata": {},
   "outputs": [
    {
     "name": "stdout",
     "output_type": "stream",
     "text": [
      "lrYuH\n"
     ]
    }
   ],
   "source": [
    "#ex 4\n",
    "\n",
    "import random\n",
    "import string\n",
    "\n",
    "def generate_random_string(length):\n",
    "    letters = string.ascii_letters\n",
    "    return ''.join(random.choice(letters) for i in range(length))\n",
    "\n",
    "random_string = generate_random_string(5)\n",
    "print(random_string)"
   ]
  },
  {
   "cell_type": "code",
   "execution_count": 8,
   "metadata": {},
   "outputs": [
    {
     "name": "stdout",
     "output_type": "stream",
     "text": [
      "Today's date is: 2023-07-26\n"
     ]
    }
   ],
   "source": [
    "#ex 5\n",
    "\n",
    "import datetime\n",
    "\n",
    "def display_current_date():\n",
    "    current_date = datetime.datetime.now().date()\n",
    "    print(\"Today's date is:\", current_date)\n",
    "\n",
    "\n",
    "display_current_date()"
   ]
  },
  {
   "cell_type": "code",
   "execution_count": 13,
   "metadata": {},
   "outputs": [
    {
     "name": "stdout",
     "output_type": "stream",
     "text": [
      "The 1st of January is in 158 days, 16 hours, and 51 minutes.\n"
     ]
    }
   ],
   "source": [
    "#ex 6\n",
    "\n",
    "from datetime import datetime\n",
    "\n",
    "def time_left_until_january1():\n",
    "    now = datetime.now()\n",
    "    january1 = datetime(now.year + 1, 1, 1)\n",
    "    time_left = january1 - now\n",
    "    \n",
    "    days_left = time_left.days\n",
    "    hours_left = time_left.seconds // 3600\n",
    "    minutes_left = (time_left.seconds // 60) % 60\n",
    "    \n",
    "    print(f\"The 1st of January is in {days_left} days, {hours_left} hours, and {minutes_left} minutes.\")\n",
    "    \n",
    "time_left_until_january1()\n",
    "    \n",
    "   "
   ]
  },
  {
   "cell_type": "code",
   "execution_count": 14,
   "metadata": {},
   "outputs": [
    {
     "name": "stdout",
     "output_type": "stream",
     "text": [
      "You have lived for 19479310 minutes.\n"
     ]
    }
   ],
   "source": [
    "#ex 7\n",
    "\n",
    "from datetime import datetime\n",
    "\n",
    "def minutes_lived(birthdate):\n",
    "    birthdate = datetime.strptime(birthdate, '%d-%m-%Y')\n",
    "    current_date = datetime.now()\n",
    "    time_lived = current_date - birthdate\n",
    "    minutes_lived = int(time_lived.total_seconds() / 60)\n",
    "    return f\"You have lived for {minutes_lived} minutes.\"\n",
    "\n",
    "birthdate = \"13-07-1986\"\n",
    "print(minutes_lived(birthdate))"
   ]
  },
  {
   "cell_type": "code",
   "execution_count": null,
   "metadata": {},
   "outputs": [],
   "source": []
  }
 ],
 "metadata": {
  "kernelspec": {
   "display_name": "Python 3",
   "language": "python",
   "name": "python3"
  },
  "language_info": {
   "codemirror_mode": {
    "name": "ipython",
    "version": 3
   },
   "file_extension": ".py",
   "mimetype": "text/x-python",
   "name": "python",
   "nbconvert_exporter": "python",
   "pygments_lexer": "ipython3",
   "version": "3.11.4"
  },
  "orig_nbformat": 4
 },
 "nbformat": 4,
 "nbformat_minor": 2
}
