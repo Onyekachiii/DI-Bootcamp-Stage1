{
 "cells": [
  {
   "cell_type": "code",
   "execution_count": 1,
   "metadata": {},
   "outputs": [
    {
     "name": "stdout",
     "output_type": "stream",
     "text": [
      "Welcome to the Random Sentence Generator!\n",
      "This program will generate a random sentence based on a given length.\n",
      "Random sentence: sail indolency hermeneutical opener herbarial aftershafts clouterly\n"
     ]
    }
   ],
   "source": [
    "def get_words_from_file():\n",
    "    with open(\"word_list.txt\", \"r\") as file:\n",
    "        words = file.read().splitlines()\n",
    "    return words\n",
    "\n",
    "def get_random_sentence(length):\n",
    "    import random\n",
    "    words = get_words_from_file()\n",
    "    random_words = random.choices(words, k=length)\n",
    "    sentence = \" \".join(random_words)\n",
    "    return sentence.lower()\n",
    "\n",
    "def main():\n",
    "    print(\"Welcome to the Random Sentence Generator!\")\n",
    "    print(\"This program will generate a random sentence based on a given length.\")\n",
    "\n",
    "    while True:\n",
    "        try:\n",
    "            length = int(input(\"Enter the length of the sentence (between 2 and 20): \"))\n",
    "            if length < 2 or length > 20:\n",
    "                raise ValueError\n",
    "            break\n",
    "        except ValueError:\n",
    "            print(\"Invalid input. Please enter an integer between 2 and 20.\")\n",
    "\n",
    "    sentence = get_random_sentence(length)\n",
    "    print(\"Random sentence:\", sentence)\n",
    "\n",
    "if __name__ == \"__main__\":\n",
    "    main()"
   ]
  },
  {
   "cell_type": "code",
   "execution_count": 2,
   "metadata": {},
   "outputs": [
    {
     "name": "stdout",
     "output_type": "stream",
     "text": [
      "7000\n"
     ]
    }
   ],
   "source": [
    "\n",
    "import json\n",
    "sampleJson = \"\"\"{ \n",
    "   \"company\":{ \n",
    "      \"employee\":{ \n",
    "         \"name\":\"emma\",\n",
    "         \"payable\":{ \n",
    "            \"salary\":7000,\n",
    "            \"bonus\":800\n",
    "         }\n",
    "      }\n",
    "   }\n",
    "}\"\"\"\n",
    "\n",
    "data = json.loads(sampleJson)\n",
    "\n",
    "\n",
    "salary = data[\"company\"][\"employee\"][\"payable\"][\"salary\"]\n",
    "print(salary)\n",
    "\n",
    "\n",
    "data[\"company\"][\"employee\"][\"birth_date\"] = \"1990-01-01\"\n",
    "\n",
    "\n",
    "with open(\"output.json\", \"w\") as file:\n",
    "    json.dump(data, file)"
   ]
  }
 ],
 "metadata": {
  "kernelspec": {
   "display_name": "Python 3",
   "language": "python",
   "name": "python3"
  },
  "language_info": {
   "codemirror_mode": {
    "name": "ipython",
    "version": 3
   },
   "file_extension": ".py",
   "mimetype": "text/x-python",
   "name": "python",
   "nbconvert_exporter": "python",
   "pygments_lexer": "ipython3",
   "version": "3.11.4"
  },
  "orig_nbformat": 4
 },
 "nbformat": 4,
 "nbformat_minor": 2
}
